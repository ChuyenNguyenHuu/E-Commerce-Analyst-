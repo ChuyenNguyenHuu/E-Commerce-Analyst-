{
 "cells": [
  {
   "cell_type": "code",
   "execution_count": 5,
   "id": "26206367",
   "metadata": {},
   "outputs": [
    {
     "name": "stdout",
     "output_type": "stream",
     "text": [
      "Completed import lib\n"
     ]
    }
   ],
   "source": [
    "import pandas as pd\n",
    "import numpy as np\n",
    "import matplotlib.pyplot as plt\n",
    "import seaborn as sns\n",
    "print('Completed import lib')"
   ]
  },
  {
   "cell_type": "markdown",
   "id": "c5224b56",
   "metadata": {},
   "source": [
    "I. Import and clean data"
   ]
  },
  {
   "cell_type": "code",
   "execution_count": 6,
   "id": "a45aa91d",
   "metadata": {},
   "outputs": [
    {
     "name": "stdout",
     "output_type": "stream",
     "text": [
      "complete upload data\n"
     ]
    }
   ],
   "source": [
    "cus = pd.read_csv ('/Users/huuchuyen0312/Downloads/Dataset/customers_dataset.csv')\n",
    "orderitems = pd.read_csv ('/Users/huuchuyen0312/Downloads/Dataset/order_items_dataset.csv')\n",
    "orderpay = pd.read_csv ('/Users/huuchuyen0312/Downloads/Dataset/order_payments_dataset.csv')\n",
    "orderreviews = pd.read_csv ('/Users/huuchuyen0312/Downloads/Dataset/order_reviews_dataset.csv')\n",
    "order = pd.read_csv ('/Users/huuchuyen0312/Downloads/Dataset/orders_dataset.csv')\n",
    "productcat = pd.read_csv ('/Users/huuchuyen0312/Downloads/Dataset/product_category_name_translation.csv')\n",
    "product= pd.read_csv ('/Users/huuchuyen0312/Downloads/Dataset/products_dataset.csv')\n",
    "print ('complete upload data')"
   ]
  },
  {
   "cell_type": "code",
   "execution_count": 7,
   "id": "f2f8cd06",
   "metadata": {},
   "outputs": [
    {
     "name": "stdout",
     "output_type": "stream",
     "text": [
      "<class 'pandas.core.frame.DataFrame'>\n",
      "RangeIndex: 99441 entries, 0 to 99440\n",
      "Data columns (total 5 columns):\n",
      " #   Column                    Non-Null Count  Dtype \n",
      "---  ------                    --------------  ----- \n",
      " 0   customer_id               99441 non-null  object\n",
      " 1   customer_unique_id        99441 non-null  object\n",
      " 2   customer_zip_code_prefix  99441 non-null  int64 \n",
      " 3   customer_city             99441 non-null  object\n",
      " 4   customer_state            99441 non-null  object\n",
      "dtypes: int64(1), object(4)\n",
      "memory usage: 3.8+ MB\n",
      "<class 'pandas.core.frame.DataFrame'>\n",
      "RangeIndex: 112650 entries, 0 to 112649\n",
      "Data columns (total 6 columns):\n",
      " #   Column         Non-Null Count   Dtype  \n",
      "---  ------         --------------   -----  \n",
      " 0   order_id       112650 non-null  object \n",
      " 1   order_item_id  112650 non-null  int64  \n",
      " 2   product_id     112650 non-null  object \n",
      " 3   seller_id      112650 non-null  object \n",
      " 4   price          112650 non-null  float64\n",
      " 5   freight_value  112650 non-null  float64\n",
      "dtypes: float64(2), int64(1), object(3)\n",
      "memory usage: 5.2+ MB\n",
      "<class 'pandas.core.frame.DataFrame'>\n",
      "RangeIndex: 103886 entries, 0 to 103885\n",
      "Data columns (total 5 columns):\n",
      " #   Column                Non-Null Count   Dtype  \n",
      "---  ------                --------------   -----  \n",
      " 0   order_id              103886 non-null  object \n",
      " 1   payment_sequential    103886 non-null  int64  \n",
      " 2   payment_type          103886 non-null  object \n",
      " 3   payment_installments  103886 non-null  int64  \n",
      " 4   payment_value         103886 non-null  float64\n",
      "dtypes: float64(1), int64(2), object(2)\n",
      "memory usage: 4.0+ MB\n",
      "<class 'pandas.core.frame.DataFrame'>\n",
      "RangeIndex: 100000 entries, 0 to 99999\n",
      "Data columns (total 7 columns):\n",
      " #   Column                   Non-Null Count   Dtype \n",
      "---  ------                   --------------   ----- \n",
      " 0   review_id                100000 non-null  object\n",
      " 1   order_id                 100000 non-null  object\n",
      " 2   review_score             100000 non-null  int64 \n",
      " 3   review_comment_title     11715 non-null   object\n",
      " 4   review_comment_message   41753 non-null   object\n",
      " 5   review_creation_date     100000 non-null  object\n",
      " 6   review_answer_timestamp  100000 non-null  object\n",
      "dtypes: int64(1), object(6)\n",
      "memory usage: 5.3+ MB\n",
      "<class 'pandas.core.frame.DataFrame'>\n",
      "RangeIndex: 99441 entries, 0 to 99440\n",
      "Data columns (total 8 columns):\n",
      " #   Column                         Non-Null Count  Dtype \n",
      "---  ------                         --------------  ----- \n",
      " 0   order_id                       99441 non-null  object\n",
      " 1   customer_id                    99441 non-null  object\n",
      " 2   order_status                   99441 non-null  object\n",
      " 3   order_purchase_timestamp       99441 non-null  object\n",
      " 4   order_approved_at              99281 non-null  object\n",
      " 5   order_delivered_carrier_date   97658 non-null  object\n",
      " 6   order_delivered_customer_date  96476 non-null  object\n",
      " 7   order_estimated_delivery_date  99441 non-null  object\n",
      "dtypes: object(8)\n",
      "memory usage: 6.1+ MB\n",
      "<class 'pandas.core.frame.DataFrame'>\n",
      "RangeIndex: 71 entries, 0 to 70\n",
      "Data columns (total 2 columns):\n",
      " #   Column                         Non-Null Count  Dtype \n",
      "---  ------                         --------------  ----- \n",
      " 0   product_category_name          71 non-null     object\n",
      " 1   product_category_name_english  71 non-null     object\n",
      "dtypes: object(2)\n",
      "memory usage: 1.2+ KB\n",
      "<class 'pandas.core.frame.DataFrame'>\n",
      "RangeIndex: 32951 entries, 0 to 32950\n",
      "Data columns (total 9 columns):\n",
      " #   Column                      Non-Null Count  Dtype  \n",
      "---  ------                      --------------  -----  \n",
      " 0   product_id                  32951 non-null  object \n",
      " 1   product_category_name       32341 non-null  object \n",
      " 2   product_name_lenght         32341 non-null  float64\n",
      " 3   product_description_lenght  32341 non-null  float64\n",
      " 4   product_photos_qty          32341 non-null  float64\n",
      " 5   product_weight_g            32949 non-null  float64\n",
      " 6   product_length_cm           32949 non-null  float64\n",
      " 7   product_height_cm           32949 non-null  float64\n",
      " 8   product_width_cm            32949 non-null  float64\n",
      "dtypes: float64(7), object(2)\n",
      "memory usage: 2.3+ MB\n"
     ]
    }
   ],
   "source": [
    "cus.info()  \n",
    "orderitems.info()\n",
    "orderpay.info()\n",
    "orderreviews.info()\n",
    "order.info()\n",
    "productcat.info()\n",
    "product.info()"
   ]
  },
  {
   "cell_type": "code",
   "execution_count": 12,
   "id": "1ec42ca2",
   "metadata": {},
   "outputs": [],
   "source": [
    "df= order.merge(orderitems, on=['order_id'], how='inner')\n",
    "df= df.merge(orderpay, on=['order_id'], how= 'inner')\n",
    "df= df.merge(product, on=['product_id'], how= 'inner')\n",
    "df= df.merge(orderreviews, on=['order_id'], how='inner')\n",
    "df= df.merge(cus, on=['customer_id'], how='inner')"
   ]
  },
  {
   "cell_type": "markdown",
   "id": "c84527e9",
   "metadata": {},
   "source": [
    "1. Order table "
   ]
  },
  {
   "cell_type": "markdown",
   "id": "c54fc464",
   "metadata": {},
   "source": [
    "Issue to solve in this table \n",
    "? Tỷ lệ trạng thái các đơn hàng trong tổng số đơn hàng.\n",
    "? Thời gian các giai đoạn từ lúc nhận đơn đến lúc giao hàng thành công."
   ]
  },
  {
   "cell_type": "code",
   "execution_count": 13,
   "id": "ffecb8ad",
   "metadata": {},
   "outputs": [
    {
     "data": {
      "text/plain": [
       "order_status\n",
       "delivered    115728\n",
       "shipped        1255\n",
       "canceled        570\n",
       "Name: customer_id, dtype: int64"
      ]
     },
     "execution_count": 13,
     "metadata": {},
     "output_type": "execute_result"
    }
   ],
   "source": [
    "status= df.groupby('order_status')['customer_id'].count().nlargest(3)\n",
    "status"
   ]
  },
  {
   "cell_type": "code",
   "execution_count": 14,
   "id": "01cb3afc",
   "metadata": {},
   "outputs": [
    {
     "data": {
      "image/png": "[encoded data removed]",
      "text/plain": [
       "<Figure size 432x288 with 1 Axes>"
      ]
     },
     "metadata": {},
     "output_type": "display_data"
    }
   ],
   "source": [
    "plt.pie(status, labels = status.index, autopct = '%1.1f%%');"
   ]
  },
  {
   "cell_type": "code",
   "execution_count": 15,
   "id": "d101740e",
   "metadata": {},
   "outputs": [],
   "source": [
    "def datetime_convert(columns, df):\n",
    "    df[columns] = \\\n",
    "    df[columns].apply(pd.to_datetime, format='%Y-%m-%d %H:%M:%S.%f')"
   ]
  },
  {
   "cell_type": "code",
   "execution_count": 17,
   "id": "2625f1a6",
   "metadata": {},
   "outputs": [],
   "source": [
    "datetime_convert(\\\n",
    "    ['order_purchase_timestamp','order_approved_at','order_delivered_carrier_date','order_delivered_customer_date','order_estimated_delivery_date'],order)"
   ]
  },
  {
   "cell_type": "code",
   "execution_count": 18,
   "id": "cba4921c",
   "metadata": {},
   "outputs": [
    {
     "data": {
      "text/plain": [
       "[10.419094301919445, 67.32091634747972, 223.9331261524286]"
      ]
     },
     "execution_count": 18,
     "metadata": {},
     "output_type": "execute_result"
    }
   ],
   "source": [
    "made_to_approved = (order['order_approved_at'] - order['order_purchase_timestamp']).mean()\n",
    "approved_to_carrier = (order['order_delivered_carrier_date'] - order['order_approved_at']).mean()\n",
    "carrier_to_customer = (order['order_delivered_customer_date'] - order['order_delivered_carrier_date']).mean()\n",
    "seconds = [i/pd.Timedelta(hours = 1) for i in [made_to_approved,approved_to_carrier,carrier_to_customer]]\n",
    "seconds"
   ]
  },
  {
   "cell_type": "code",
   "execution_count": 19,
   "id": "8e14daf5",
   "metadata": {},
   "outputs": [
    {
     "data": {
      "image/png": "[encoded data removed]",
      "text/plain": [
       "<Figure size 432x288 with 1 Axes>"
      ]
     },
     "metadata": {},
     "output_type": "display_data"
    }
   ],
   "source": [
    "labels = 'made_to_approved', 'approved_to_carrier', 'carrier_to_customer'\n",
    "plt.pie(seconds, labels=labels, autopct='%1.1f%%');"
   ]
  },
  {
   "cell_type": "code",
   "execution_count": 20,
   "id": "14fa9c30",
   "metadata": {},
   "outputs": [
    {
     "data": {
      "text/plain": [
       "True     88649\n",
       "False    10792\n",
       "dtype: int64"
      ]
     },
     "execution_count": 20,
     "metadata": {},
     "output_type": "execute_result"
    }
   ],
   "source": [
    "earlier = order.apply(lambda x: True if \\\n",
    "    x['order_estimated_delivery_date'] > x['order_delivered_customer_date'] else False, axis = 1).value_counts()\n",
    "earlier"
   ]
  },
  {
   "cell_type": "code",
   "execution_count": 21,
   "id": "2468cf5f",
   "metadata": {},
   "outputs": [
    {
     "data": {
      "text/plain": [
       "([<matplotlib.patches.Wedge at 0x7f88a72226a0>,\n",
       "  <matplotlib.patches.Wedge at 0x7f88a7222be0>],\n",
       " [Text(-1.0366824511953583, 0.3678172037623902, 'earlier than expected'),\n",
       "  Text(1.036682468414123, -0.3678171552317824, 'longer than expected')],\n",
       " [Text(-0.5654631551974681, 0.20062756568857645, '89.1%'),\n",
       "  Text(0.5654631645895215, -0.2006275392173358, '10.9%')])"
      ]
     },
     "execution_count": 21,
     "metadata": {},
     "output_type": "execute_result"
    },
    {
     "data": {
      "image/png": "[encoded data removed]",
      "text/plain": [
       "<Figure size 432x288 with 1 Axes>"
      ]
     },
     "metadata": {},
     "output_type": "display_data"
    }
   ],
   "source": [
    "plt.pie(earlier, labels = ['earlier than expected','longer than expected'], autopct='%1.1f%%')"
   ]
  },
  {
   "cell_type": "markdown",
   "id": "759fa18c",
   "metadata": {},
   "source": [
    " Xây dựng các hub nhỏ tại các khu vực để giảm thời gian vận chuyển. Đa dạng hoá các carrier. "
   ]
  },
  {
   "cell_type": "markdown",
   "id": "b70744f0",
   "metadata": {},
   "source": [
    "2. Order items dataset"
   ]
  },
  {
   "cell_type": "code",
   "execution_count": 24,
   "id": "78e37ff0",
   "metadata": {},
   "outputs": [
    {
     "name": "stdout",
     "output_type": "stream",
     "text": [
      "total items sold is 112650\n"
     ]
    }
   ],
   "source": [
    "items = len(orderitems)\n",
    "print('total items sold is {}'.format(items))"
   ]
  },
  {
   "cell_type": "code",
   "execution_count": 27,
   "id": "f4004f72",
   "metadata": {},
   "outputs": [
    {
     "name": "stdout",
     "output_type": "stream",
     "text": [
      "total revenue made is 13591643.700000001\n"
     ]
    }
   ],
   "source": [
    "rev = orderitems['price'].sum()\n",
    "print('total revenue made is {}'.format(rev))"
   ]
  },
  {
   "cell_type": "code",
   "execution_count": 30,
   "id": "53f56b8d",
   "metadata": {},
   "outputs": [
    {
     "name": "stdout",
     "output_type": "stream",
     "text": [
      "total shipfee is 2251909.54 $\n"
     ]
    }
   ],
   "source": [
    "shipfee = orderitems['freight_value'].sum()\n",
    "print('total shipfee is {} $'.format(shipfee))"
   ]
  },
  {
   "cell_type": "markdown",
   "id": "a80a501c",
   "metadata": {},
   "source": [
    "3. Ordereviews"
   ]
  },
  {
   "cell_type": "code",
   "execution_count": 31,
   "id": "c11ad9cb",
   "metadata": {},
   "outputs": [
    {
     "name": "stdout",
     "output_type": "stream",
     "text": [
      "Average review score is 4.07089\n"
     ]
    }
   ],
   "source": [
    "avg_review_score = orderreviews['review_score'].mean()\n",
    "print('Average review score is {}'.format(avg_review_score))"
   ]
  },
  {
   "cell_type": "code",
   "execution_count": 42,
   "id": "83048167",
   "metadata": {},
   "outputs": [
    {
     "data": {
      "text/plain": [
       "review_comment_title\n",
       "Recomendo          498\n",
       "recomendo          404\n",
       "Bom                332\n",
       "super recomendo    311\n",
       "Excelente          293\n",
       "Muito bom          279\n",
       "Ótimo              268\n",
       "Super recomendo    257\n",
       "Ótimo              238\n",
       "Otimo              201\n",
       "Name: customer_id, dtype: int64"
      ]
     },
     "execution_count": 42,
     "metadata": {},
     "output_type": "execute_result"
    }
   ],
   "source": [
    "df.groupby('review_comment_title')['customer_id'].count().sort_values(ascending= False).nlargest(10)"
   ]
  },
  {
   "cell_type": "code",
   "execution_count": 26,
   "id": "f39d3f10",
   "metadata": {},
   "outputs": [
    {
     "data": {
      "image/png": "[encoded data removed]",
      "text/plain": [
       "<Figure size 432x288 with 1 Axes>"
      ]
     },
     "metadata": {
      "needs_background": "light"
     },
     "output_type": "display_data"
    }
   ],
   "source": [
    "orderreviews.review_score.plot.hist()\n",
    "plt.title('Frequency distribution of review score')\n",
    "for i,v in enumerate(orderreviews['review_score'].value_counts().sort_index()):\n",
    "    plt.text(i+1,v+1000,str(v))"
   ]
  },
  {
   "cell_type": "markdown",
   "id": "6760748c",
   "metadata": {},
   "source": [
    "4. Customer "
   ]
  },
  {
   "cell_type": "code",
   "execution_count": 38,
   "id": "c609a1bc",
   "metadata": {},
   "outputs": [
    {
     "data": {
      "text/plain": [
       "customer_id\n",
       "270c23a11d024a44c896d1894b261a83    63\n",
       "13aa59158da63ba0e93ec6ac2c07aacb    38\n",
       "9af2372a1e49340278e7c1ef8d749f34    29\n",
       "92cd3ec6e2d643d4ebd0e3d6238f69e2    26\n",
       "d22f25a9fadfb1abbc2e29395b1239f4    24\n",
       "2ba91e12e5e4c9f56b82b86d9031d329    24\n",
       "6ee2f17e3b6c33d6a9557f280edd2925    24\n",
       "63b964e79dee32a3587651701a2b8dbf    24\n",
       "86cc80fef09f7f39df4b0dbce48e81cb    24\n",
       "b246eeed30b362c09d867b9e598bee51    22\n",
       "Name: order_id, dtype: int64"
      ]
     },
     "execution_count": 38,
     "metadata": {},
     "output_type": "execute_result"
    }
   ],
   "source": [
    "top10cus = df.groupby('customer_id')['order_id'].count().sort_values(ascending=False).head(10)\n",
    "top10cus"
   ]
  },
  {
   "cell_type": "code",
   "execution_count": 32,
   "id": "d9763041",
   "metadata": {},
   "outputs": [],
   "source": [
    "top10payment = df.groupby('customer_unique_id')['price'].sum().sort_values(ascending = False).head(10)"
   ]
  },
  {
   "cell_type": "code",
   "execution_count": 33,
   "id": "88fe844c",
   "metadata": {},
   "outputs": [
    {
     "name": "stderr",
     "output_type": "stream",
     "text": [
      "/Users/huuchuyen0312/opt/anaconda3/lib/python3.9/site-packages/seaborn/_decorators.py:36: FutureWarning: Pass the following variables as keyword args: x, y. From version 0.12, the only valid positional argument will be `data`, and passing other arguments without an explicit keyword will result in an error or misinterpretation.\n",
      "  warnings.warn(\n"
     ]
    },
    {
     "data": {
      "image/png": "[encoded data removed]",
      "text/plain": [
       "<Figure size 432x288 with 1 Axes>"
      ]
     },
     "metadata": {
      "needs_background": "light"
     },
     "output_type": "display_data"
    }
   ],
   "source": [
    "sns.barplot(top10cus, top10cus.index)\n",
    "plt.xlabel('Total Spent')\n",
    "plt.title('Top 10 customers who pay the most')\n",
    "for i,v in enumerate(top10cus):\n",
    "    plt.text(v,i,str(v));"
   ]
  },
  {
   "cell_type": "markdown",
   "id": "dadd1cf2",
   "metadata": {},
   "source": [
    "5. Payment"
   ]
  },
  {
   "cell_type": "code",
   "execution_count": 39,
   "id": "e2888347",
   "metadata": {},
   "outputs": [],
   "source": [
    "payments = orderpay['payment_type'].value_counts()"
   ]
  },
  {
   "cell_type": "code",
   "execution_count": 40,
   "id": "73214a95",
   "metadata": {},
   "outputs": [
    {
     "name": "stderr",
     "output_type": "stream",
     "text": [
      "/Users/huuchuyen0312/opt/anaconda3/lib/python3.9/site-packages/seaborn/_decorators.py:36: FutureWarning: Pass the following variables as keyword args: x, y. From version 0.12, the only valid positional argument will be `data`, and passing other arguments without an explicit keyword will result in an error or misinterpretation.\n",
      "  warnings.warn(\n"
     ]
    },
    {
     "data": {
      "image/png": "[encoded data removed]",
      "text/plain": [
       "<Figure size 432x288 with 1 Axes>"
      ]
     },
     "metadata": {
      "needs_background": "light"
     },
     "output_type": "display_data"
    }
   ],
   "source": [
    "sns.barplot(payments.index, payments)\n",
    "plt.title('Method of payments count')\n",
    "for i,v in enumerate(payments):\n",
    "    plt.text(i,v + 1000,str(v));"
   ]
  },
  {
   "cell_type": "code",
   "execution_count": 43,
   "id": "b777aeba",
   "metadata": {},
   "outputs": [],
   "source": [
    "df['type_of_payment'] = ['one time payment' if x == 1 else 'installments payment' for x in df['payment_installments']]"
   ]
  },
  {
   "cell_type": "code",
   "execution_count": 44,
   "id": "a04c08eb",
   "metadata": {},
   "outputs": [
    {
     "data": {
      "text/plain": [
       "installments payment    59370\n",
       "one time payment        58945\n",
       "Name: type_of_payment, dtype: int64"
      ]
     },
     "execution_count": 44,
     "metadata": {},
     "output_type": "execute_result"
    }
   ],
   "source": [
    "paytype = df['type_of_payment'].value_counts()\n",
    "paytype"
   ]
  },
  {
   "cell_type": "code",
   "execution_count": 45,
   "id": "53fd3be0",
   "metadata": {},
   "outputs": [
    {
     "data": {
      "image/png": "[encoded data removed]",
      "text/plain": [
       "<Figure size 432x288 with 1 Axes>"
      ]
     },
     "metadata": {},
     "output_type": "display_data"
    }
   ],
   "source": [
    "plt.pie(paytype, labels = paytype.index, autopct = '%1.1f%%');"
   ]
  },
  {
   "cell_type": "code",
   "execution_count": 46,
   "id": "220409c0",
   "metadata": {},
   "outputs": [
    {
     "data": {
      "text/html": [
       "<div>\n",
       "<style scoped>\n",
       "    .dataframe tbody tr th:only-of-type {\n",
       "        vertical-align: middle;\n",
       "    }\n",
       "\n",
       "    .dataframe tbody tr th {\n",
       "        vertical-align: top;\n",
       "    }\n",
       "\n",
       "    .dataframe thead th {\n",
       "        text-align: right;\n",
       "    }\n",
       "</style>\n",
       "<table border=\"1\" class=\"dataframe\">\n",
       "  <thead>\n",
       "    <tr style=\"text-align: right;\">\n",
       "      <th></th>\n",
       "      <th>product_category_name</th>\n",
       "      <th>payment_value</th>\n",
       "    </tr>\n",
       "  </thead>\n",
       "  <tbody>\n",
       "    <tr>\n",
       "      <th>0</th>\n",
       "      <td>cama_mesa_banho</td>\n",
       "      <td>1744205.53</td>\n",
       "    </tr>\n",
       "    <tr>\n",
       "      <th>1</th>\n",
       "      <td>beleza_saude</td>\n",
       "      <td>1663076.30</td>\n",
       "    </tr>\n",
       "    <tr>\n",
       "      <th>2</th>\n",
       "      <td>informatica_acessorios</td>\n",
       "      <td>1599574.66</td>\n",
       "    </tr>\n",
       "    <tr>\n",
       "      <th>3</th>\n",
       "      <td>moveis_decoracao</td>\n",
       "      <td>1444383.69</td>\n",
       "    </tr>\n",
       "    <tr>\n",
       "      <th>4</th>\n",
       "      <td>relogios_presentes</td>\n",
       "      <td>1430553.48</td>\n",
       "    </tr>\n",
       "    <tr>\n",
       "      <th>5</th>\n",
       "      <td>esporte_lazer</td>\n",
       "      <td>1400270.11</td>\n",
       "    </tr>\n",
       "    <tr>\n",
       "      <th>6</th>\n",
       "      <td>utilidades_domesticas</td>\n",
       "      <td>1097900.09</td>\n",
       "    </tr>\n",
       "    <tr>\n",
       "      <th>7</th>\n",
       "      <td>automotivo</td>\n",
       "      <td>855095.68</td>\n",
       "    </tr>\n",
       "    <tr>\n",
       "      <th>8</th>\n",
       "      <td>ferramentas_jardim</td>\n",
       "      <td>840721.59</td>\n",
       "    </tr>\n",
       "    <tr>\n",
       "      <th>9</th>\n",
       "      <td>cool_stuff</td>\n",
       "      <td>781933.97</td>\n",
       "    </tr>\n",
       "  </tbody>\n",
       "</table>\n",
       "</div>"
      ],
      "text/plain": [
       "    product_category_name  payment_value\n",
       "0         cama_mesa_banho     1744205.53\n",
       "1            beleza_saude     1663076.30\n",
       "2  informatica_acessorios     1599574.66\n",
       "3        moveis_decoracao     1444383.69\n",
       "4      relogios_presentes     1430553.48\n",
       "5           esporte_lazer     1400270.11\n",
       "6   utilidades_domesticas     1097900.09\n",
       "7              automotivo      855095.68\n",
       "8      ferramentas_jardim      840721.59\n",
       "9              cool_stuff      781933.97"
      ]
     },
     "execution_count": 46,
     "metadata": {},
     "output_type": "execute_result"
    }
   ],
   "source": [
    "df.groupby('product_category_name')['payment_value'].sum().nlargest(10).reset_index()"
   ]
  },
  {
   "cell_type": "code",
   "execution_count": 47,
   "id": "9eb17bfe",
   "metadata": {},
   "outputs": [
    {
     "data": {
      "text/html": [
       "<div>\n",
       "<style scoped>\n",
       "    .dataframe tbody tr th:only-of-type {\n",
       "        vertical-align: middle;\n",
       "    }\n",
       "\n",
       "    .dataframe tbody tr th {\n",
       "        vertical-align: top;\n",
       "    }\n",
       "\n",
       "    .dataframe thead th {\n",
       "        text-align: right;\n",
       "    }\n",
       "</style>\n",
       "<table border=\"1\" class=\"dataframe\">\n",
       "  <thead>\n",
       "    <tr style=\"text-align: right;\">\n",
       "      <th></th>\n",
       "      <th>payment_value</th>\n",
       "    </tr>\n",
       "    <tr>\n",
       "      <th>customer_city</th>\n",
       "      <th></th>\n",
       "    </tr>\n",
       "  </thead>\n",
       "  <tbody>\n",
       "    <tr>\n",
       "      <th>sao paulo</th>\n",
       "      <td>2869266.75</td>\n",
       "    </tr>\n",
       "    <tr>\n",
       "      <th>rio de janeiro</th>\n",
       "      <td>1574182.84</td>\n",
       "    </tr>\n",
       "    <tr>\n",
       "      <th>belo horizonte</th>\n",
       "      <td>504234.44</td>\n",
       "    </tr>\n",
       "    <tr>\n",
       "      <th>brasilia</th>\n",
       "      <td>434082.20</td>\n",
       "    </tr>\n",
       "    <tr>\n",
       "      <th>curitiba</th>\n",
       "      <td>331052.02</td>\n",
       "    </tr>\n",
       "    <tr>\n",
       "      <th>porto alegre</th>\n",
       "      <td>317384.38</td>\n",
       "    </tr>\n",
       "    <tr>\n",
       "      <th>salvador</th>\n",
       "      <td>290277.61</td>\n",
       "    </tr>\n",
       "    <tr>\n",
       "      <th>campinas</th>\n",
       "      <td>269008.51</td>\n",
       "    </tr>\n",
       "    <tr>\n",
       "      <th>goiania</th>\n",
       "      <td>213737.67</td>\n",
       "    </tr>\n",
       "    <tr>\n",
       "      <th>guarulhos</th>\n",
       "      <td>205642.69</td>\n",
       "    </tr>\n",
       "  </tbody>\n",
       "</table>\n",
       "</div>"
      ],
      "text/plain": [
       "                payment_value\n",
       "customer_city                \n",
       "sao paulo          2869266.75\n",
       "rio de janeiro     1574182.84\n",
       "belo horizonte      504234.44\n",
       "brasilia            434082.20\n",
       "curitiba            331052.02\n",
       "porto alegre        317384.38\n",
       "salvador            290277.61\n",
       "campinas            269008.51\n",
       "goiania             213737.67\n",
       "guarulhos           205642.69"
      ]
     },
     "execution_count": 47,
     "metadata": {},
     "output_type": "execute_result"
    }
   ],
   "source": [
    "df.groupby('customer_city')['payment_value'].sum().sort_values(ascending=False).to_frame().head(10)"
   ]
  },
  {
   "cell_type": "code",
   "execution_count": null,
   "id": "87cb2367",
   "metadata": {},
   "outputs": [],
   "source": []
  }
 ],
 "metadata": {
  "kernelspec": {
   "display_name": "Python 3 (ipykernel)",
   "language": "python",
   "name": "python3"
  },
  "language_info": {
   "codemirror_mode": {
    "name": "ipython",
    "version": 3
   },
   "file_extension": ".py",
   "mimetype": "text/x-python",
   "name": "python",
   "nbconvert_exporter": "python",
   "pygments_lexer": "ipython3",
   "version": "3.9.12"
  }
 },
 "nbformat": 4,
 "nbformat_minor": 5
}
